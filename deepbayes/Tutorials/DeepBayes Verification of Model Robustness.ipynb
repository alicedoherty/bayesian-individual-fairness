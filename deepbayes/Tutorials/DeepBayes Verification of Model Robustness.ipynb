{
 "cells": [
  {
   "cell_type": "markdown",
   "metadata": {},
   "source": [
    "# Computing Bounds on Probabilistic Safety with DeepBayes\n",
    "\n",
    "Probabilistic Safety for BNNs: $Prob_{\\theta \\sim p(\\theta | \\mathcal{D})}\\big( f^{\\theta}(x') \\in S \\quad \\forall x' \\in T \\big)$\n",
    "\n",
    "In this notebook, we go over how to compute upper and lower bounds on probabilistic safety for BNNs with DeepBayes.\n",
    "\n",
    "#### Example notebook takes 3 minutes to run in total\n",
    "(Times are reported for an M1 Pro Macbook)"
   ]
  },
  {
   "cell_type": "code",
   "execution_count": 1,
   "metadata": {},
   "outputs": [],
   "source": [
    "import os\n",
    "import sys\n",
    "import logging\n",
    "import deepbayes\n",
    "from deepbayes import PosteriorModel\n",
    "from deepbayes.analyzers import prob_veri\n",
    "from deepbayes.analyzers import FGSM\n",
    "\n",
    "import numpy as np\n",
    "\n",
    "import tensorflow as tf\n",
    "from tensorflow.keras.models import *\n",
    "from tensorflow.keras.layers import *"
   ]
  },
  {
   "cell_type": "markdown",
   "metadata": {},
   "source": [
    "#### Load in MNIST Dataset"
   ]
  },
  {
   "cell_type": "code",
   "execution_count": 2,
   "metadata": {},
   "outputs": [],
   "source": [
    "(X_train, y_train), (X_test, y_test) = tf.keras.datasets.mnist.load_data()\n",
    "X_train = X_train/255.\n",
    "X_test = X_test/255.\n",
    "X_train = X_train.astype(\"float64\").reshape(-1, 28*28)\n",
    "X_test = X_test.astype(\"float64\").reshape(-1, 28* 28)"
   ]
  },
  {
   "cell_type": "markdown",
   "metadata": {},
   "source": [
    "#### Define safe and unsafe predicates\n",
    "\n",
    "These functions will take in the input upper and lower bounds as well as the values of the output \n",
    "logits and then will need to return True if the output is within the safe region i.e., $f^{\\theta}(x') \\in S$"
   ]
  },
  {
   "cell_type": "code",
   "execution_count": 3,
   "metadata": {},
   "outputs": [],
   "source": [
    "def predicate_safe(iml, imu, ol, ou):\n",
    "    v1 = tf.one_hot(TRUE_VALUE, depth=10)\n",
    "    v2 = 1 - tf.one_hot(TRUE_VALUE, depth=10)\n",
    "    v1 = tf.squeeze(v1); v2 = tf.squeeze(v2)\n",
    "    worst_case = tf.math.add(tf.math.multiply(v2, ou), tf.math.multiply(v1, ol))\n",
    "    if(np.argmax(worst_case) == TRUE_VALUE):\n",
    "        return True\n",
    "    else:\n",
    "        return False\n",
    "    \n",
    "def predicate_unsafe(iml, imu, ol, ou):\n",
    "    v1 = tf.one_hot(TRUE_VALUE, depth=10)\n",
    "    v2 = 1 - tf.one_hot(TRUE_VALUE, depth=10)\n",
    "    v1 = tf.squeeze(v1); v2 = tf.squeeze(v2)\n",
    "    #worst_case = tf.math.add(tf.math.multiply(v2, ou), tf.math.multiply(v1, ol))\n",
    "    best_case = tf.math.add(tf.math.multiply(v1, ou), tf.math.multiply(v2, ol))\n",
    "    if(np.argmax(best_case) == TRUE_VALUE):\n",
    "        return False\n",
    "    else:\n",
    "        return True"
   ]
  },
  {
   "cell_type": "markdown",
   "metadata": {},
   "source": [
    "#### Load in the pretrained BNN model"
   ]
  },
  {
   "cell_type": "code",
   "execution_count": 4,
   "metadata": {},
   "outputs": [
    {
     "name": "stdout",
     "output_type": "stream",
     "text": [
      "WARNING:tensorflow:No training configuration found in the save file, so the model was *not* compiled. Compile it manually.\n",
      "Model: \"sequential\"\n",
      "_________________________________________________________________\n",
      "Layer (type)                 Output Shape              Param #   \n",
      "=================================================================\n",
      "dense (Dense)                (None, 1, 128)            100480    \n",
      "_________________________________________________________________\n",
      "dense_1 (Dense)              (None, 1, 10)             1290      \n",
      "=================================================================\n",
      "Total params: 101,770\n",
      "Trainable params: 101,770\n",
      "Non-trainable params: 0\n",
      "_________________________________________________________________\n",
      "BayesKeras detected the above model \n",
      " None\n"
     ]
    }
   ],
   "source": [
    "bayes_model = PosteriorModel(\"PosteriorModels/VOGN_MNIST_Posterior/\")"
   ]
  },
  {
   "cell_type": "code",
   "execution_count": 5,
   "metadata": {},
   "outputs": [],
   "source": [
    "INDEX = 0\n",
    "img = np.asarray([X_test[INDEX]])\n",
    "TRUE_VALUE = np.argmax(bayes_model.predict(np.asarray([img]))) #y_test[INDEX]"
   ]
  },
  {
   "cell_type": "markdown",
   "metadata": {},
   "source": [
    "#### Set Verification Parameters and compute Decision Upper Bound\n",
    "\n",
    "##### Parameters: \n",
    "* Margin - The number of standard deviations that each weight sample will span\n",
    "* Samples - The number of samples taken from the posterior (Small here for time savings)\n",
    "* Max Depth - The depth of the Bonferroni Bound used to compute the probability\n",
    "* Epsilon - The size of the input set that we consider for verification"
   ]
  },
  {
   "cell_type": "code",
   "execution_count": 6,
   "metadata": {},
   "outputs": [
    {
     "name": "stderr",
     "output_type": "stream",
     "text": [
      "Checking Samples: 100%|██████████| 3/3 [00:00<00:00, 118.65it/s]\n"
     ]
    },
    {
     "name": "stdout",
     "output_type": "stream",
     "text": [
      "Found 3 safe intervals\n",
      "About to compute intersection for this many intervals:  3\n"
     ]
    },
    {
     "name": "stderr",
     "output_type": "stream",
     "text": [
      "Computing intersection weights:   0%|          | 0/3 [00:00<?, ?it/s]/Users/matthewwicker/AdversarialRobustnessOfBNNs/deepbayes/analyzers/probverification.py:429: VisibleDeprecationWarning: Creating an ndarray from ragged nested sequences (which is a list-or-tuple of lists-or-tuples-or ndarrays with different lengths or shapes) is deprecated. If you meant to do this, you must specify 'dtype=object' when creating the ndarray.\n",
      "  stage1_args.append((model.posterior_mean, model.posterior_var, np.swapaxes(np.asarray([weight_intervals[wi]]),1,0), margin, verbose, n_proc, False))\n",
      "Computing intersection weights: 100%|██████████| 3/3 [00:00<00:00, 2405.91it/s]"
     ]
    },
    {
     "name": "stdout",
     "output_type": "stream",
     "text": [
      "Depth 1 has 3 intersections\n"
     ]
    },
    {
     "name": "stderr",
     "output_type": "stream",
     "text": [
      "\n",
      "100%|██████████| 3/3 [00:25<00:00,  8.57s/it]\n"
     ]
    },
    {
     "name": "stdout",
     "output_type": "stream",
     "text": [
      "Depth 1 prob:  2.813171409891387\n",
      "Depth 2 has 3 intersections\n"
     ]
    },
    {
     "name": "stderr",
     "output_type": "stream",
     "text": [
      "100%|██████████| 3/3 [00:30<00:00, 10.32s/it]\n"
     ]
    },
    {
     "name": "stdout",
     "output_type": "stream",
     "text": [
      "Depth 2 prob: -2.63833808118673\n",
      "Current approximation: 0.1748333287046573\n",
      "Depth 2 prob::  0.1748333287046573\n",
      "Depth 3 has 1 intersections\n"
     ]
    },
    {
     "name": "stderr",
     "output_type": "stream",
     "text": [
      "100%|██████████| 1/1 [00:27<00:00, 27.86s/it]\n"
     ]
    },
    {
     "name": "stdout",
     "output_type": "stream",
     "text": [
      "Depth 3 prob: 0.8249021942608562\n",
      "Current approximation: 0.9997355229655135\n",
      "Got this approximation:  0.9997355229655135\n",
      "Lowerbound on Safety Probability:  0.9997355229655135\n"
     ]
    }
   ],
   "source": [
    "MARGIN = 3.5\n",
    "SAMPLES = 3\n",
    "MAXDEPTH = 3\n",
    "EPSILON = 0.01\n",
    "img = np.asarray([X_test[INDEX]])\n",
    "img_upper = np.clip(np.asarray([X_test[INDEX]+(EPSILON)]), 0, 1)\n",
    "img_lower = np.clip(np.asarray([X_test[INDEX]-(EPSILON)]), 0, 1)\n",
    "p_lower = prob_veri(bayes_model, img_lower, img_upper, MARGIN, SAMPLES, predicate=predicate_safe, depth=MAXDEPTH)\n",
    "print(\"Lowerbound on Safety Probability: \", p_lower)"
   ]
  },
  {
   "cell_type": "code",
   "execution_count": 7,
   "metadata": {},
   "outputs": [
    {
     "name": "stderr",
     "output_type": "stream",
     "text": [
      "Checking Samples: 100%|██████████| 3/3 [00:12<00:00,  4.20s/it]\n"
     ]
    },
    {
     "name": "stdout",
     "output_type": "stream",
     "text": [
      "Found 3 safe intervals\n",
      "About to compute intersection for this many intervals:  3\n"
     ]
    },
    {
     "name": "stderr",
     "output_type": "stream",
     "text": [
      "Computing intersection weights: 100%|██████████| 3/3 [00:00<00:00, 44150.57it/s]"
     ]
    },
    {
     "name": "stdout",
     "output_type": "stream",
     "text": [
      "Depth 1 has 3 intersections\n"
     ]
    },
    {
     "name": "stderr",
     "output_type": "stream",
     "text": [
      "\n",
      "100%|██████████| 3/3 [00:25<00:00,  8.49s/it]\n"
     ]
    },
    {
     "name": "stdout",
     "output_type": "stream",
     "text": [
      "Depth 1 prob:  1.9492321128510364\n",
      "Depth 2 has 3 intersections\n"
     ]
    },
    {
     "name": "stderr",
     "output_type": "stream",
     "text": [
      "100%|██████████| 3/3 [00:30<00:00, 10.20s/it]\n"
     ]
    },
    {
     "name": "stdout",
     "output_type": "stream",
     "text": [
      "Depth 2 prob: -1.269194338157607\n",
      "Current approximation: 0.6800377746934294\n",
      "Depth 2 prob::  0.6800377746934294\n",
      "Depth 3 has 1 intersections\n"
     ]
    },
    {
     "name": "stderr",
     "output_type": "stream",
     "text": [
      "100%|██████████| 1/1 [00:28<00:00, 28.07s/it]\n"
     ]
    },
    {
     "name": "stdout",
     "output_type": "stream",
     "text": [
      "Depth 3 prob: 0.2760463352902422\n",
      "Current approximation: 0.9560841099836717\n",
      "Got this approximation:  0.9560841099836717\n",
      "Upper Bound on Safety Probability:  0.04391589001632834\n"
     ]
    }
   ],
   "source": [
    "from deepbayes.analyzers import prob_veri_upper\n",
    "INDEX = 1\n",
    "EPSILON = 0.15\n",
    "MARGIN = 3.25\n",
    "img = np.asarray([X_test[INDEX]])\n",
    "img_upper = np.clip(np.asarray([X_test[INDEX]+(EPSILON)]), 0, 1)\n",
    "img_lower = np.clip(np.asarray([X_test[INDEX]-(EPSILON)]), 0, 1)\n",
    "p_upper = prob_veri_upper(bayes_model, img_lower, img_upper, MARGIN, SAMPLES, predicate=predicate_unsafe, depth=MAXDEPTH)\n",
    "p_upper = 1-p_upper\n",
    "print(\"Upper Bound on Safety Probability: \", p_upper)"
   ]
  }
 ],
 "metadata": {
  "kernelspec": {
   "display_name": "Python 3",
   "language": "python",
   "name": "python3"
  },
  "language_info": {
   "codemirror_mode": {
    "name": "ipython",
    "version": 3
   },
   "file_extension": ".py",
   "mimetype": "text/x-python",
   "name": "python",
   "nbconvert_exporter": "python",
   "pygments_lexer": "ipython3",
   "version": "3.8.5"
  }
 },
 "nbformat": 4,
 "nbformat_minor": 4
}
