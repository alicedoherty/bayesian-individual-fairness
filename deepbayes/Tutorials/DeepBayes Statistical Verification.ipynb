{
 "cells": [
  {
   "cell_type": "markdown",
   "metadata": {},
   "source": [
    "# Computing Statistical Estimate on Probabilistic Safety with DeepBayes\n",
    "\n",
    "Probabilistic Safety for BNNs: $Prob_{\\theta \\sim p(\\theta | \\mathcal{D})}\\big( f^{\\theta}(x') \\in S \\quad \\forall x' \\in T \\big)$\n",
    "\n",
    "In this notebook, we go over how to compute statistical estimates of probabilistic safety for BNNs with DeepBayes such that we have control over the error and confidence of our estimate. \n",
    "\n",
    "#### Example notebook takes 10 sections to run in total\n",
    "(Times are reported for an M1 Pro Macbook)"
   ]
  },
  {
   "cell_type": "code",
   "execution_count": 1,
   "metadata": {},
   "outputs": [],
   "source": [
    "import os\n",
    "import sys\n",
    "import time\n",
    "import logging\n",
    "import numpy as np\n",
    "import deepbayes\n",
    "from deepbayes import PosteriorModel\n",
    "from deepbayes.analyzers import IBP_prob\n",
    "from deepbayes.analyzers import IBP_upper\n",
    "from deepbayes.analyzers import FGSM\n",
    "from deepbayes.analyzers import massart_bound_check\n",
    "import tensorflow as tf\n",
    "from tensorflow.keras.models import *\n",
    "from tensorflow.keras.layers import *"
   ]
  },
  {
   "cell_type": "markdown",
   "metadata": {},
   "source": [
    "#### Load in the MNIST dataset"
   ]
  },
  {
   "cell_type": "code",
   "execution_count": 2,
   "metadata": {},
   "outputs": [],
   "source": [
    "(X_train, y_train), (X_test, y_test) = tf.keras.datasets.mnist.load_data()\n",
    "X_train = X_train/255.\n",
    "X_test = X_test/255.\n",
    "X_train = X_train.astype(\"float64\").reshape(-1, 28*28)\n",
    "X_test = X_test.astype(\"float64\").reshape(-1, 28* 28)"
   ]
  },
  {
   "cell_type": "markdown",
   "metadata": {},
   "source": [
    "#### Define safe and unsafe predicates\n",
    "\n",
    "These functions will take in the input upper and lower bounds as well as the values of the output \n",
    "logits and then will need to return True if the output is within the safe region i.e., $f^{\\theta}(x') \\in S$"
   ]
  },
  {
   "cell_type": "code",
   "execution_count": 3,
   "metadata": {},
   "outputs": [],
   "source": [
    "def predicate_safe(iml, imu, ol, ou):\n",
    "    v1 = tf.one_hot(TRUE_VALUE, depth=10)\n",
    "    v2 = 1 - tf.one_hot(TRUE_VALUE, depth=10)\n",
    "    v1 = tf.squeeze(v1); v2 = tf.squeeze(v2)\n",
    "    worst_case = tf.math.add(tf.math.multiply(v2, ou), tf.math.multiply(v1, ol))\n",
    "    if(np.argmax(worst_case) == TRUE_VALUE):\n",
    "        return True\n",
    "    else:\n",
    "        return False\n",
    "    \n",
    "def predicate_worst(worst_case):\n",
    "    if(np.argmax(worst_case) != TRUE_VALUE):\n",
    "        return False\n",
    "    else:\n",
    "        return True"
   ]
  },
  {
   "cell_type": "markdown",
   "metadata": {},
   "source": [
    "#### Load in the pretrained BNN Model"
   ]
  },
  {
   "cell_type": "code",
   "execution_count": 4,
   "metadata": {},
   "outputs": [
    {
     "name": "stdout",
     "output_type": "stream",
     "text": [
      "WARNING:tensorflow:No training configuration found in the save file, so the model was *not* compiled. Compile it manually.\n",
      "Model: \"sequential\"\n",
      "_________________________________________________________________\n",
      "Layer (type)                 Output Shape              Param #   \n",
      "=================================================================\n",
      "dense (Dense)                (None, 1, 128)            100480    \n",
      "_________________________________________________________________\n",
      "dense_1 (Dense)              (None, 1, 10)             1290      \n",
      "=================================================================\n",
      "Total params: 101,770\n",
      "Trainable params: 101,770\n",
      "Non-trainable params: 0\n",
      "_________________________________________________________________\n",
      "BayesKeras detected the above model \n",
      " None\n"
     ]
    }
   ],
   "source": [
    "bayes_model = PosteriorModel(\"PosteriorModels/VOGN_MNIST_Posterior/\")"
   ]
  },
  {
   "cell_type": "markdown",
   "metadata": {},
   "source": [
    "#### Set Verification Parameters and compute Decision Lower Bound\n",
    "\n",
    "##### Parameters: \n",
    "* Index - The index of the test set input we want to estimate the robustness of\n",
    "* Epsilon - The size of the input set that we consider for verification\n",
    "* Confidence - The probability that our estimate falls outside of the error range\n",
    "* Delta - The specified error range\n"
   ]
  },
  {
   "cell_type": "code",
   "execution_count": 5,
   "metadata": {},
   "outputs": [],
   "source": [
    "INDEX = 0\n",
    "EPSILON = 0.025\n",
    "CONFIDENCE = 0.75\n",
    "DELTA = 0.25\n",
    "\n",
    "img = np.asarray([X_test[INDEX]])\n",
    "TRUE_VALUE = y_test[INDEX]\n",
    "img = np.asarray([X_test[INDEX]])\n",
    "img_upper = np.clip(np.asarray([X_test[INDEX]+(EPSILON)]), 0, 1)\n",
    "img_lower = np.clip(np.asarray([X_test[INDEX]-(EPSILON)]), 0, 1)"
   ]
  },
  {
   "cell_type": "code",
   "execution_count": 6,
   "metadata": {},
   "outputs": [
    {
     "name": "stdout",
     "output_type": "stream",
     "text": [
      "BayesKeras. Maximum sample bound = 17\n",
      "Working on iteration: 1.0 \t Bound: 17 \t Param: 1.0\n",
      "Working on iteration: 2.0 \t Bound: 17 \t Param: 1.0\n",
      "Working on iteration: 3.0 \t Bound: 17 \t Param: 1.0\n",
      "Working on iteration: 4.0 \t Bound: 17 \t Param: 1.0\n",
      "Working on iteration: 5.0 \t Bound: 17 \t Param: 1.0\n",
      "Working on iteration: 6.0 \t Bound: 17 \t Param: 1.0\n",
      "Working on iteration: 7.0 \t Bound: 17 \t Param: 1.0\n",
      "Working on iteration: 8.0 \t Bound: 17 \t Param: 1.0\n",
      "Working on iteration: 9.0 \t Bound: 17 \t Param: 1.0\n",
      "Working on iteration: 10.0 \t Bound: 16 \t Param: 1.0\n",
      "Working on iteration: 11.0 \t Bound: 16 \t Param: 1.0\n",
      "Working on iteration: 12.0 \t Bound: 15 \t Param: 1.0\n",
      "Working on iteration: 13.0 \t Bound: 15 \t Param: 1.0\n",
      "Working on iteration: 14.0 \t Bound: 14 \t Param: 1.0\n",
      "Exited becuase 15.0 >= 14\n",
      "Mean is returned as zero because massart does not provide valid bounds on the mean.\n"
     ]
    }
   ],
   "source": [
    "start = time.process_time()\n",
    "p_safe_attack, iterations_attack, mean = massart_bound_check(bayes_model, img, EPSILON, predicate_worst, cls=TRUE_VALUE,\n",
    "                                                             confidence=CONFIDENCE, delta=DELTA, alpha=0.05, classification=True,\n",
    "                                                             verify=False, chernoff=False, verbose=True)\n",
    "attk_time = time.process_time() - start\n",
    "d_safe_attack = predicate_worst(mean)"
   ]
  },
  {
   "cell_type": "code",
   "execution_count": 7,
   "metadata": {},
   "outputs": [
    {
     "name": "stdout",
     "output_type": "stream",
     "text": [
      "The BNN and input has statistical robustness 1.0 for epsilon 0.025\n",
      "Statistical check with confidence 0.75 and delta 0.25 too 15.0 iterations and 4.320111000000001 seconds\n"
     ]
    }
   ],
   "source": [
    "print(\"The BNN and input has statistical robustness %s for epsilon 0.025\"%(p_safe_attack))\n",
    "print(\"Statistical check with confidence 0.75 and delta 0.25 too %s iterations and %s seconds\"%(iterations_attack, attk_time))"
   ]
  }
 ],
 "metadata": {
  "kernelspec": {
   "display_name": "Python 3",
   "language": "python",
   "name": "python3"
  },
  "language_info": {
   "codemirror_mode": {
    "name": "ipython",
    "version": 3
   },
   "file_extension": ".py",
   "mimetype": "text/x-python",
   "name": "python",
   "nbconvert_exporter": "python",
   "pygments_lexer": "ipython3",
   "version": "3.8.5"
  }
 },
 "nbformat": 4,
 "nbformat_minor": 4
}
